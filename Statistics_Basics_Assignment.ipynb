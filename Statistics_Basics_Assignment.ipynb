{
  "nbformat": 4,
  "nbformat_minor": 0,
  "metadata": {
    "colab": {
      "provenance": []
    },
    "kernelspec": {
      "name": "python3",
      "display_name": "Python 3"
    },
    "language_info": {
      "name": "python"
    }
  },
  "cells": [
    {
      "cell_type": "markdown",
      "source": [
        "# **Statistics Basics Assignment**"
      ],
      "metadata": {
        "id": "JqfRkRU4f2CH"
      }
    },
    {
      "cell_type": "markdown",
      "source": [
        "**1. Explain the different types of data (qualitative and quantitative) and provide examples of each. Discuss nominal, ordinal, interval, and ratio scales.**\n",
        "\n",
        "Ans - **Qualitative Data:** Describes categories or characteristics. Examples: Eye color, type of car.\n",
        "\n",
        "\n",
        "*   **Nominal Scale:** Categories without a specific order. Example: Blood type (A, B, AB, O).\n",
        "*   **Ordinal Scale:** Categories with a meaningful order but no fixed intervals. Example: Education level (high school, bachelor’s, master’s).\n",
        "\n",
        "**Quantitative Data:** Numerical data that represents quantities. Examples: Weight, age.\n",
        "\n",
        "\n",
        "*   **Interval Scale:** Numerical data with equal intervals but no true zero. Example: Temperature in Celsius.\n",
        "*   **Ratio Scale:** Numerical data with equal intervals and a true zero. Example: Income, height.\n",
        "\n",
        "\n"
      ],
      "metadata": {
        "id": "h4qXYQsMf7yn"
      }
    },
    {
      "cell_type": "markdown",
      "source": [
        "**2. What are the measures of central tendency, and when should you use each? Discuss the mean, median, and mode with examples and situations where each is appropriate**\n",
        "\n",
        "Ans -\n",
        "\n",
        "*   **Mean:** The average of a dataset. Suitable for symmetrical distributions without outliers. Example: Average monthly salary.\n",
        "*   **Median:** The middle value of an ordered dataset. Best for skewed distributions. Example: Median house prices.\n",
        "*   **Mode:** The most frequently occurring value. Ideal for categorical data. Example: Most common shoe size sold.\n",
        "\n",
        "\n",
        "\n",
        "\n"
      ],
      "metadata": {
        "id": "AnvKdigogvkH"
      }
    },
    {
      "cell_type": "markdown",
      "source": [
        "**3. Explain the concept of dispersion. How do variance and standard deviation measure the spread of data?**\n",
        "\n",
        "Ans - **Dispersion:** Measures how data points spread around the central value.\n",
        "\n",
        "\n",
        "*   **Variance:** The average of squared deviations from the mean. Indicates the degree of data spread.\n",
        "*   **Standard Deviation:** The square root of variance. Represents spread in the same units as the data.\n",
        "\n"
      ],
      "metadata": {
        "id": "czt4pCSrhL-X"
      }
    },
    {
      "cell_type": "markdown",
      "source": [
        "**4. What is a box plot, and what can it tell you about the distribution of data?**\n",
        "\n",
        "Ans - A box plot is a graphical representation of data distribution using:\n",
        "\n",
        "*   Minimum, first quartile (Q1), median, third quartile (Q3), and maximum.\n",
        "*   Identifies spread, central tendency, and outliers.\n",
        "Example: A box plot of exam scores shows the range and whether the data is skewed or symmetric.\n",
        "\n"
      ],
      "metadata": {
        "id": "KCwbRW9JhfgW"
      }
    },
    {
      "cell_type": "markdown",
      "source": [
        "**5. Discuss the role of random sampling in making inferences about populations.**\n",
        "\n",
        "Ans - **Random Sampling:** Ensures every individual in a population has an equal chance of being selected.\n",
        "\n",
        "*   Reduces selection bias.\n",
        "*   Ensures that results are representative of the population.\n",
        "Example: Conducting a survey of voter preferences by randomly selecting individuals across regions ensures unbiased results.\n",
        "\n"
      ],
      "metadata": {
        "id": "W5eWp2Qsh7-A"
      }
    },
    {
      "cell_type": "markdown",
      "source": [
        "**6. Explain the concept of skewness and its types. How does skewness affect the interpretation of data?**\n",
        "\n",
        "Ans - **Skewness:** Measures the asymmetry of a data distribution.\n",
        "\n",
        "*   **Positive Skew:** Tail extends to the right. Mean > Median.\n",
        "*   **Negative Skew:** Tail extends to the left. Mean < Median.\n",
        "Effect: Skewness impacts the choice of central tendency measure. For skewed data, the median is preferred over the mean.\n",
        "\n"
      ],
      "metadata": {
        "id": "IlYDF5B7iMA2"
      }
    },
    {
      "cell_type": "markdown",
      "source": [
        "**7. What is the interquartile range (IQR), and how is it used to detect outliers?**\n",
        "\n",
        "Ans - **Interquartile Range (IQR):** Measures the middle 50% of the data. Formula: IQR = Q3 - Q1.\n",
        "\n",
        "*   **Outliers:** Data points less than Q1 - 1.5×IQR or greater than Q3 + 1.5×IQR.\n",
        "Example: If Q1 = 10, Q3 = 20, then IQR = 10. Points outside [10 - 15, 20 + 15] = [-5, 35] are outliers.\n",
        "\n"
      ],
      "metadata": {
        "id": "iCzQ3yr8igjo"
      }
    },
    {
      "cell_type": "markdown",
      "source": [
        "**8. Discuss the conditions under which the binomial distribution is used**\n",
        "\n",
        "Ans -\n",
        "*   **Conditions:**\n",
        "\n",
        "\n",
        "1.   Fixed number of trials (n).\n",
        "2.   Each trial has two outcomes (success/failure).\n",
        "3.   Constant probability of success (p).\n",
        "4.   Trials are independent.\n",
        "Example: Flipping a coin 10 times and counting the number of heads.\n",
        "\n",
        "\n",
        "\n",
        "\n",
        "\n"
      ],
      "metadata": {
        "id": "flHRPR_Ziw9g"
      }
    },
    {
      "cell_type": "markdown",
      "source": [
        "**9. Explain the properties of the normal distribution and the empirical rule (68-95-99.7 rule).**\n",
        "\n",
        "Ans - **Normal Distribution:** Symmetrical, bell-shaped curve.\n",
        "\n",
        "*   Mean, median, and mode are equal.\n",
        "*   Defined by mean (μ) and standard deviation (σ).\n",
        "\n",
        "**Empirical Rule:**\n",
        "\n",
        "*   68% of data lies within 1σ.\n",
        "*   95% within 2σ.\n",
        "*   99.7% within 3σ.\n",
        "Example: Heights of adults follow a normal distribution."
      ],
      "metadata": {
        "id": "biAM7rNOjYNH"
      }
    },
    {
      "cell_type": "markdown",
      "source": [
        "**10. Provide a real-life example of a Poisson process and calculate the probability for a specific event.**\n",
        "\n",
        "Ans - **Poisson Process:** Models the number of events occurring in a fixed interval.\n",
        "\n",
        "*   Example: Number of customer arrivals at a store per hour.\n",
        "\n",
        "**Calculation:**\n",
        "Mean (λ): 5 arrivals/hour.\n",
        "Event: Probability of 3 arrivals.\n",
        "Formula: P(X = k) = (λⁿ e⁻λ) / k!\n",
        "P(X = 3) = (5³ e⁻⁵) / 3! ≈ 0.14 (14%).\n",
        "\n"
      ],
      "metadata": {
        "id": "i0tiIBJOj3a-"
      }
    },
    {
      "cell_type": "markdown",
      "source": [
        "**11. Explain what a random variable is and differentiate between discrete and continuous random variables.**\n",
        "\n",
        "Ans - **Random Variable:** Represents outcomes of a random process.\n",
        "\n",
        "\n",
        "*   **Discrete Random Variable:** Takes specific values. Example: Number of heads in 10 coin flips.\n",
        "*   **Continuous Random Variable:** Takes any value within a range. Example: Time taken to run a race.\n",
        "\n"
      ],
      "metadata": {
        "id": "tdcxDEmIkZeQ"
      }
    },
    {
      "cell_type": "markdown",
      "source": [
        "**12. Provide an example dataset, calculate both covariance and correlation, and interpret the results.**\n",
        "\n",
        "Ans - Dataset:\n",
        "X: [1, 2, 3, 4, 5]\n",
        "Y: [2, 4, 6, 8, 10]\n",
        "\n",
        "**Calculations:**\n",
        "\n",
        "*   **Covariance:**\n",
        "Cov(X, Y) = ∑((Xᵢ - μX)(Yᵢ - μY)) / n = 2.5.\n",
        "*   **Correlation:**\n",
        "Corr(X, Y) = Cov(X, Y) / (σX σY) = 1\n"
      ],
      "metadata": {
        "id": "r5GVgW-XkvCJ"
      }
    },
    {
      "cell_type": "code",
      "source": [],
      "metadata": {
        "id": "ql1E6gF5lSJ-"
      },
      "execution_count": null,
      "outputs": []
    }
  ]
}